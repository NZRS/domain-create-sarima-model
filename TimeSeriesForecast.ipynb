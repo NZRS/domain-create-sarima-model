{
 "cells": [
  {
   "cell_type": "code",
   "execution_count": null,
   "metadata": {
    "collapsed": false
   },
   "outputs": [],
   "source": [
    "%matplotlib inline \n",
    "import pandas as pd\n",
    "import numpy as np\n",
    "import datetime\n",
    "import calendar\n",
    "import statsmodels.tsa.stattools\n",
    "from statsmodels.tsa.stattools import adfuller\n",
    "from statsmodels.tsa.seasonal import seasonal_decompose\n",
    "import statsmodels.api as  sm\n",
    "import matplotlib.pyplot as plt\n",
    "import matplotlib.pylab\n",
    "from matplotlib.pylab import rcParams\n",
    "from dateutil.relativedelta import relativedelta"
   ]
  },
  {
   "cell_type": "code",
   "execution_count": null,
   "metadata": {
    "collapsed": false
   },
   "outputs": [],
   "source": [
    "idp_url = 'https://idp.nz/api/views/mm2r-3dj9/rows.csv'\n",
    "dateparse = lambda dates: pd.datetime.strptime(dates, '%d/%m/%Y')\n",
    "data = pd.read_csv( idp_url, parse_dates='Day', index_col='Day', date_parser=dateparse)\n",
    "# convert the column into a series object.\n",
    "time_series = data[['Measure','Count','Parent Level Domain']] "
   ]
  },
  {
   "cell_type": "code",
   "execution_count": null,
   "metadata": {
    "collapsed": false
   },
   "outputs": [],
   "source": [
    "# count the number of Creates / uncancelled / cancelled per month since 2012.\n",
    "startdate= datetime.date(2012,1,1)\n",
    "# the observed number of months\n",
    "length = 56 \n",
    "# function to find the next month\n",
    "def add_months(sourcedate,months):\n",
    "    month = sourcedate.month - 1 + months\n",
    "    year = int(sourcedate.year + month / 12 )\n",
    "    month = month % 12 + 1\n",
    "    day = min(sourcedate.day,calendar.monthrange(year,month)[1])\n",
    "    return datetime.date(year,month,day)\n",
    "# function to count the number of domains \n",
    "number_created = []\n",
    "number_uncancelled = []\n",
    "number_cancelled = []\n",
    "dates = []\n",
    "def domain_counting(length):\n",
    "    for i in range(length):\n",
    "        if i==0:\n",
    "            year = str(startdate.year)\n",
    "            month = str(startdate.month)\n",
    "            countdate = '-'.join((year,month))\n",
    "            number_created.append(time_series[countdate][time_series[countdate]['Measure']== 'Created'].sum().Count)\n",
    "            number_cancelled.append(time_series[countdate][time_series[countdate]['Measure']== 'Cancelled'].sum().Count)\n",
    "            number_uncancelled.append(time_series[countdate][time_series[countdate]['Measure']== 'Uncancelled'].sum().Count)    \n",
    "        else:\n",
    "            newdate = add_months(startdate,i) #find the new date\n",
    "            year = str(newdate.year)\n",
    "            month = str(newdate.month)\n",
    "            countdate = '-'.join((year,month))\n",
    "            number_created.append(time_series[countdate][time_series[countdate]['Measure']== 'Created'].sum().Count)\n",
    "            number_cancelled.append(time_series[countdate][time_series[countdate]['Measure']== 'Cancelled'].sum().Count)\n",
    "            number_uncancelled.append(time_series[countdate][time_series[countdate]['Measure']== 'Uncancelled'].sum().Count)\n",
    "        \n",
    "        dates.append(countdate)   \n",
    "        i += 1  \n",
    "    return \n",
    "domain_counting(length)"
   ]
  },
  {
   "cell_type": "code",
   "execution_count": null,
   "metadata": {
    "collapsed": false,
    "scrolled": true
   },
   "outputs": [],
   "source": [
    "#Create a dataframe to store the time series after counting.\n",
    "df = pd.DataFrame({'Month':dates, 'Created': number_created, 'Cancelled': number_cancelled, \n",
    "                    'Uncancelled': number_uncancelled})\n",
    "df2 = df[['Month', 'Created']]"
   ]
  },
  {
   "cell_type": "code",
   "execution_count": null,
   "metadata": {
    "collapsed": false
   },
   "outputs": [],
   "source": [
    "#Parse the data into time series data\n",
    "data_created = df2.copy()\n",
    "data_created['Month'] = pd.to_datetime(df2['Month'])\n",
    "rcParams['figure.figsize'] = 15, 6\n",
    "data_created = data_created.set_index('Month')\n",
    "data_point = data_created['2012-01': '2015-12']\n",
    "#plt.plot(data_point)#plt.title('Figure 1: Number of creations per month 2012-2015')\n"
   ]
  },
  {
   "cell_type": "code",
   "execution_count": null,
   "metadata": {
    "collapsed": false
   },
   "outputs": [],
   "source": [
    "fig = plt.figure(figsize=(8,6))\n",
    "bplot = plt.boxplot(data_point.Created,\n",
    "            notch=False, \n",
    "            sym='rs',    \n",
    "            vert=True,\n",
    "         showmeans=True    )   \n",
    "for components in bplot.keys():\n",
    "    for line in bplot[components]:\n",
    "        line.set_color('black')     \n",
    "plt.title('Figure 2: Box plots for the number of creations per month')\n",
    "plt.show()\n",
    "mean = sum(data_point.Created) / float(len(data_point.Created))"
   ]
  },
  {
   "cell_type": "code",
   "execution_count": null,
   "metadata": {
    "collapsed": false
   },
   "outputs": [],
   "source": [
    "#get the index of the outliers.\n",
    "outlier_index = data_point[data_point['Created'] > 15000].index.tolist()\n",
    "ts = data_created['Created']\n",
    "#replace the outliers with the mean\n",
    "for i in outlier_index:\n",
    "    ts[i] = 11396\n",
    "# plot after outlier replacement\n",
    "plt.plot(ts)\n",
    "plt.title('Figure 3: Number of creations per month with outliers replacement')"
   ]
  },
  {
   "cell_type": "code",
   "execution_count": null,
   "metadata": {
    "collapsed": false,
    "scrolled": false
   },
   "outputs": [],
   "source": [
    "#function to test stationarity\n",
    "\n",
    "def test_stationarity(timeseries):\n",
    "    \n",
    "    #Determing rolling statistics\n",
    "    rolmean = pd.rolling_mean(timeseries, window=12)\n",
    "    rolstd = pd.rolling_std(timeseries, window=12)\n",
    "\n",
    "    #Plot rolling statistics:\n",
    "    orig = plt.plot(timeseries, color='blue',label='Original')\n",
    "    mean = plt.plot(rolmean, color='red', label='Rolling Mean')\n",
    "    std = plt.plot(rolstd, color='black', label = 'Rolling Std')\n",
    "    plt.legend(loc='best')\n",
    "    plt.title('Figure 7: Rolling Mean & Standard Deviation after taking the first difference of seasonal difference')\n",
    "    plt.show(block=False)\n",
    "    \n",
    "    #Perform Dickey-Fuller test:\n",
    "    print('Results of Dickey-Fuller Test:')\n",
    "    dftest = adfuller(timeseries, autolag='AIC')\n",
    "    #dftest = adfuller(timeseries,1)\n",
    "    dfoutput = pd.Series(dftest[0:4], index=['Test Statistic','p-value','#Lags Used','Number of Observations Used'])\n",
    "    for key,value in dftest[4].items():\n",
    "        dfoutput['Critical Value (%s)'%key] = value\n",
    "    print(dfoutput)\n",
    "\n",
    "test_stationarity(ts)"
   ]
  },
  {
   "cell_type": "code",
   "execution_count": null,
   "metadata": {
    "collapsed": false
   },
   "outputs": [],
   "source": [
    "#first difference\n",
    "#take_log_diff = take_log - take_log.shift() \n",
    "ts_first = ts - ts.shift()\n",
    "#plt.plot(take_log_diff) \n",
    "ts_first.dropna(inplace=True)\n",
    "test_stationarity(ts_first)\n",
    "\n",
    "#seasonal difference\n",
    "ts_season = ts - ts.shift(12) \n",
    "ts_season.dropna(inplace=True)\n",
    "test_stationarity(ts_season)\n",
    "\n",
    "#first + seasonal difference\n",
    "ts_first_season = ts_first - ts_first.shift(12)\n",
    "ts_first_season.dropna(inplace=True)\n",
    "test_stationarity(ts_first_season)\n",
    "\n",
    "#first difference of the seasonal difference\n",
    "\n",
    "ts_new = ts_season - ts_season.shift()\n",
    "ts_new.dropna(inplace=True)\n",
    "test_stationarity(ts_new)\n"
   ]
  },
  {
   "cell_type": "code",
   "execution_count": null,
   "metadata": {
    "collapsed": false
   },
   "outputs": [],
   "source": [
    "\n",
    "decomposition = seasonal_decompose(ts)\n",
    "\n",
    "trend = decomposition.trend\n",
    "seasonal = decomposition.seasonal\n",
    "residual = decomposition.resid\n",
    "\n",
    "plt.suptitle('Figure 4: Subplots generated from seasonal_decompose function', fontsize=12, y=1)\n",
    "\n",
    "plt.subplot(411)\n",
    "plt.plot(ts, label='Original')\n",
    "plt.legend(loc='best')\n",
    "plt.subplot(412)\n",
    "plt.plot(trend, label='Trend')\n",
    "plt.legend(loc='best')\n",
    "plt.subplot(413)\n",
    "plt.plot(seasonal,label='Seasonality')\n",
    "plt.legend(loc='best')\n",
    "plt.subplot(414)\n",
    "plt.plot(residual, label='Residuals')\n",
    "plt.legend(loc='best')\n",
    "plt.tight_layout()\n"
   ]
  },
  {
   "cell_type": "code",
   "execution_count": null,
   "metadata": {
    "collapsed": false
   },
   "outputs": [],
   "source": [
    "ts_decompose = residual\n",
    "ts_decompose.dropna(inplace=True)\n",
    "test_stationarity(ts_decompose)"
   ]
  },
  {
   "cell_type": "code",
   "execution_count": null,
   "metadata": {
    "collapsed": false
   },
   "outputs": [],
   "source": [
    "#ACF and PACF plots\n",
    "fig = plt.figure(figsize=(12,8))\n",
    "ax1 = fig.add_subplot(211)\n",
    "fig = sm.graphics.tsa.plot_acf(ts_new.iloc[:], lags=33\n",
    "                               , ax=ax1)\n",
    "ax2 = fig.add_subplot(212)\n",
    "fig = sm.graphics.tsa.plot_pacf(ts_new.iloc[:], lags=33, ax=ax2)\n",
    "fig.suptitle('Figure 8: ACF and PACF of stationarized data', fontsize=14)"
   ]
  },
  {
   "cell_type": "code",
   "execution_count": null,
   "metadata": {
    "collapsed": false
   },
   "outputs": [],
   "source": [
    "mod = statsmodels.tsa.statespace.sarimax.SARIMAX(ts, trend='n', order=(1,1,0), seasonal_order=(2,1,0,12), enforce_invertibility =True)\n",
    "res = mod.fit()  ### return MLE results. in sample fit\n",
    "print(res.summary())"
   ]
  },
  {
   "cell_type": "code",
   "execution_count": null,
   "metadata": {
    "collapsed": false,
    "scrolled": true
   },
   "outputs": [],
   "source": [
    "# In-sample one-step-ahead predictions\n",
    "predict = res.get_prediction()\n",
    "predict_ci = predict.conf_int()\n",
    "# Dynamic predictions\n",
    "predict_dy = res.get_prediction(dynamic='2015-10-01')\n",
    "predict_dy_ci = predict_dy.conf_int()\n",
    "# Graph\n",
    "fig, ax = plt.subplots(figsize=(12,4))\n",
    "npre = 4\n",
    "ax.set(title='New creations per month', xlabel='Month', ylabel='Number of creations')\n",
    "#Plot data points\n",
    "df3 = df2[:].set_index('Month')\n",
    "df3.ix['2016-1':'2016-8','Created'].plot(ax=ax, style='o', label='Observed')\n",
    "# Plot predictions\n",
    "a = predict.predicted_mean['2016-01':]\n",
    "a = a.to_frame(name='Predicted')\n",
    "a['Month'] = a.index\n",
    "a.index = range(8)\n",
    "a.ix[:,'Predicted'].plot(ax=ax, style='r--', label='One-step-ahead prediction')\n",
    "#add the confidence interval of the on-step prediction.\n",
    "ci = predict_ci.ix['2016-01':] \n",
    "ax.fill_between(a.index, ci.ix[:,'lower Created'], ci.ix[:,'upper Created'], color='r', alpha=0.1)\n",
    "# dynamic predition\n",
    "b = predict_dy.predicted_mean['2016-01':]\n",
    "b = b.to_frame(name='Predicted')\n",
    "b['Month'] = b.index\n",
    "b.index = range(8)\n",
    "b.ix[:, 'Predicted'].plot(ax=ax, style='g', label='Dynamic prediction (Oct 2015)')\n",
    "#add the confidence interval\n",
    "ci_1 = predict_dy_ci.ix['2016-01':]\n",
    "ax.fill_between(a.index, ci_1.ix[:,'lower Created'], ci_1.ix[:,'upper Created'], color='g', alpha=0.1)\n",
    "legend = ax.legend(loc='lower right')\n",
    "plt.title('Figure 9: One-step-ahead and Dynamic predictions for 2016 Jan - Aug')\n",
    "\n"
   ]
  },
  {
   "cell_type": "code",
   "execution_count": null,
   "metadata": {
    "collapsed": false
   },
   "outputs": [],
   "source": [
    "# Prediction error\n",
    "# Graph\n",
    "fig, ax = plt.subplots(figsize=(12,4))\n",
    "npre = 4\n",
    "ax.set(title='Figure 10: Prediction error', xlabel='Date', ylabel='Prediction - Observed')\n",
    "df3 = df2[:].set_index('Month')\n",
    "df4 = df3.ix['2016-1':, 'Created']\n",
    "df4.iloc[0] = -178.155512\n",
    "df4.iloc[1] =-499.549301\n",
    "df4.iloc[2] = 290.572568\n",
    "df4.iloc[3] = -111.820272\n",
    "df4.iloc[4] = -32.534230\n",
    "df4.iloc[5] = -193.970729\n",
    "df4.iloc[6] = -201.101407\n",
    "df4.iloc[7] = -86.877242\n",
    "df4.ix[:,].plot(ax=ax, style='w', label='')\n",
    "# In-sample one-step-ahead predictions and 95% confidence intervals\n",
    "predict_error = predict.predicted_mean - ts\n",
    "d = predict_error['2016-01':]\n",
    "error1 =d.to_frame(name='error')\n",
    "error1['Month'] = error1.index\n",
    "error1.index = range(8)\n",
    "error1.ix[:,'error'].plot(ax=ax, label='One-step-ahead prediction')\n",
    "\n",
    "ci = predict_ci.ix['2016-01-01':].copy()\n",
    "ci.iloc[:,0] -= ts.loc['2016-01-01':]\n",
    "ci.iloc[:,1] -= ts.loc['2016-01-01':]\n",
    "ax.fill_between(error1.index, ci.ix[:,0], ci.ix[:,1], alpha=0.1)\n",
    "\n",
    "# Dynamic predictions and 95% confidence intervals\n",
    "predict_dy_error = predict_dy.predicted_mean - ts\n",
    "f = predic_dy_error = predict_dy_error['2016-01':]\n",
    "error2 =f.to_frame(name='error')\n",
    "error2['Month'] = error2.index\n",
    "error2.index = range(8)\n",
    "error2.ix[:, 'error'].plot(ax=ax, style='r', label='Dynamic prediction (Oct 2015)')\n",
    "\n",
    "ci = predict_dy_ci.ix['2016-01-01':].copy()\n",
    "ci.iloc[:,0] -= ts.loc['2016-01-01':]\n",
    "ci.iloc[:,1] -= ts.loc['2016-01-01':]\n",
    "ax.fill_between(error1.index, ci.ix[:,0], ci.ix[:,1], color='r', alpha=0.1)\n",
    "\n",
    "legend = ax.legend(loc='lower right');\n",
    "legend.get_frame().set_facecolor('w')"
   ]
  },
  {
   "cell_type": "markdown",
   "metadata": {},
   "source": [
    "ts.ix[:, ]"
   ]
  },
  {
   "cell_type": "code",
   "execution_count": null,
   "metadata": {
    "collapsed": false
   },
   "outputs": [],
   "source": [
    "# predict into the future\n",
    "# Graph\n",
    "fig, ax = plt.subplots(figsize=(12,4))\n",
    "npre = 4\n",
    "ax.set(title='Figure 11: Forecasting into future', xlabel='Year', ylabel='Number of creations')\n",
    "# first, add some new date points.\n",
    "start = datetime.datetime.strptime(\"2016-09-01\", \"%Y-%m-%d\")\n",
    "date_list = [start + relativedelta(months=x) for x in range(0,12)]\n",
    "future = pd.DataFrame(index=date_list, columns = ['Forecast'])\n",
    "df= pd.concat([ts, future])\n",
    "df['Forecast'] = res.predict(start = 56, end = 65, dynamic= True)  \n",
    "#df[[0, 'Forecast']].ix[-65:].plot(figsize=(12, 8)) \n",
    "plt.plot(df.index, df[0], label='sdf')\n",
    "plt.plot(df.index, df['Forecast'] , label='ldsdfs')\n",
    "plt.show()"
   ]
  }
 ],
 "metadata": {
  "kernelspec": {
   "display_name": "Python 3",
   "language": "python",
   "name": "python3"
  },
  "language_info": {
   "codemirror_mode": {
    "name": "ipython",
    "version": 3
   },
   "file_extension": ".py",
   "mimetype": "text/x-python",
   "name": "python",
   "nbconvert_exporter": "python",
   "pygments_lexer": "ipython3",
   "version": "3.5.1"
  }
 },
 "nbformat": 4,
 "nbformat_minor": 0
}
